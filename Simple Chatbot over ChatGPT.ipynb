{
  "cells": [
    {
      "cell_type": "code",
      "execution_count": 1,
      "metadata": {
        "id": "p7zex4fXJQed"
      },
      "outputs": [],
      "source": [
        "!pip install -q openai"
      ]
    },
    {
      "cell_type": "code",
      "execution_count": 1,
      "metadata": {
        "id": "wpa5lLXVJbHg"
      },
      "outputs": [],
      "source": [
        "import os\n",
        "import openai"
      ]
    },
    {
      "cell_type": "code",
      "execution_count": null,
      "metadata": {
        "id": "E_kEeYGAJdin"
      },
      "outputs": [],
      "source": [
        "os.environ['OPENAI_API_KEY'] = 'YOUR_OPENAI_API_KEY'\n",
        "openai.api_key = os.getenv('OPENAI_API_KEY')"
      ]
    },
    {
      "cell_type": "code",
      "execution_count": 3,
      "metadata": {
        "id": "MjgTFEwWJhUF"
      },
      "outputs": [],
      "source": [
        "response = openai.chat.completions.create(\n",
        "    model = 'gpt-3.5-turbo',\n",
        "    messages = [\n",
        "        {'role':'system', 'content': 'you are a Jordanian history Tutor'},\n",
        "        {'role': 'user', 'content': 'Who was the first king of Jordan?'}\n",
        "    ]\n",
        ")"
      ]
    },
    {
      "cell_type": "code",
      "execution_count": 4,
      "metadata": {
        "colab": {
          "base_uri": "https://localhost:8080/"
        },
        "id": "cInCcjklKgDM",
        "outputId": "7b49ac6d-af39-4cd8-8de6-06518f25f7b8"
      },
      "outputs": [
        {
          "data": {
            "text/plain": [
              "ChatCompletion(id='chatcmpl-BP2tsPI029eK1RHU6cb2RHwxnDGnQ', choices=[Choice(finish_reason='stop', index=0, logprobs=None, message=ChatCompletionMessage(content='The first king of Jordan was King Abdullah I. He was the founder of the modern Jordanian state and reigned from 1921 until his assassination in 1951. King Abdullah I played a key role in establishing Jordan as an independent and sovereign nation.', refusal=None, role='assistant', annotations=[], audio=None, function_call=None, tool_calls=None))], created=1745309048, model='gpt-3.5-turbo-0125', object='chat.completion', service_tier='default', system_fingerprint=None, usage=CompletionUsage(completion_tokens=53, prompt_tokens=26, total_tokens=79, completion_tokens_details=CompletionTokensDetails(accepted_prediction_tokens=0, audio_tokens=0, reasoning_tokens=0, rejected_prediction_tokens=0), prompt_tokens_details=PromptTokensDetails(audio_tokens=0, cached_tokens=0)))"
            ]
          },
          "execution_count": 4,
          "metadata": {},
          "output_type": "execute_result"
        }
      ],
      "source": [
        "response"
      ]
    },
    {
      "cell_type": "code",
      "execution_count": 5,
      "metadata": {
        "colab": {
          "base_uri": "https://localhost:8080/"
        },
        "id": "rHw5QX8jKhT2",
        "outputId": "a4d24d1e-97cc-48b2-dbb1-fe9eb59ab7e4"
      },
      "outputs": [
        {
          "name": "stdout",
          "output_type": "stream",
          "text": [
            "('The first king of Jordan was King Abdullah I. He was the founder of the '\n",
            " 'modern Jordanian state and reigned from 1921 until his assassination in '\n",
            " '1951. King Abdullah I played a key role in establishing Jordan as an '\n",
            " 'independent and sovereign nation.')\n"
          ]
        }
      ],
      "source": [
        "import pprint\n",
        "pprint.pprint( response.choices[0].message.content)"
      ]
    },
    {
      "cell_type": "code",
      "execution_count": 8,
      "metadata": {
        "id": "sBvOOJDfKrW1"
      },
      "outputs": [],
      "source": [
        "response = openai.chat.completions.create(\n",
        "    model = 'gpt-3.5-turbo',\n",
        "    messages = [\n",
        "        {'role':'system', 'content': 'you are a Jordanian history Tutor'},\n",
        "        {'role': 'user', 'content': 'Question: Who was the first king of Jordan?'},\n",
        "        {'role': 'assistant', 'content': 'Answer: The first king of Jordan was King Abdullah I'},\n",
        "        {'role': 'user', 'content': 'Question:What year was he born?'}\n",
        "    ]\n",
        ")"
      ]
    },
    {
      "cell_type": "code",
      "execution_count": 9,
      "metadata": {
        "colab": {
          "base_uri": "https://localhost:8080/"
        },
        "id": "o6vSNbSzLoCU",
        "outputId": "e4778a05-ba20-4e84-c851-be70c497cc98"
      },
      "outputs": [
        {
          "name": "stdout",
          "output_type": "stream",
          "text": [
            "'Answer: King Abdullah I was born on February 20, 1882.'\n"
          ]
        }
      ],
      "source": [
        "import pprint\n",
        "pprint.pprint( response.choices[0].message.content)"
      ]
    },
    {
      "cell_type": "code",
      "execution_count": 10,
      "metadata": {
        "id": "jfnYU-tKNOWJ"
      },
      "outputs": [],
      "source": [
        "class CreateBot:\n",
        "\n",
        "\n",
        "  def __init__(self,system_prompt):\n",
        "\n",
        "    self.system = system_prompt\n",
        "    self.messages = [{'role':  'system', 'content': system_prompt}]\n",
        "\n",
        "  def chat(self):\n",
        "    print ('To terminate conversation, type \"END\"')\n",
        "    question = \"\"\n",
        "# user input\n",
        "    while question != \"END\":\n",
        "      question = input(\"\")\n",
        "      print('\\n')\n",
        "# Add to the messages list of dictionary\n",
        "      self.messages.append({'role': 'user', 'content': question})\n",
        "# Grab the response from chatgpt\n",
        "      response = openai.chat.completions.create(\n",
        "          model = 'gpt-3.5-turbo',\n",
        "          max_tokens = 1000,\n",
        "          temperature = 0.3,\n",
        "          messages =self.messages)\n",
        "#grab assistant message (content)\n",
        "      content = response.choices[0].message.content\n",
        "      print('\\n')\n",
        "      pprint.pprint(content)\n",
        "      print('\\n')\n",
        "      self.messages.append({'role': \"assistant\", \"content\": content})"
      ]
    },
    {
      "cell_type": "code",
      "execution_count": 11,
      "metadata": {
        "id": "_L_TyItqPxpr"
      },
      "outputs": [],
      "source": [
        "history_tutor = CreateBot(system_prompt = 'Yor are a Jordanian History Tutor')"
      ]
    },
    {
      "cell_type": "code",
      "execution_count": 12,
      "metadata": {
        "colab": {
          "base_uri": "https://localhost:8080/"
        },
        "id": "g5VH7LwiQCbg",
        "outputId": "43a80890-60c4-4184-90bd-cc82088f260c"
      },
      "outputs": [
        {
          "data": {
            "text/plain": [
              "<__main__.CreateBot at 0x78591ad7e190>"
            ]
          },
          "execution_count": 12,
          "metadata": {},
          "output_type": "execute_result"
        }
      ],
      "source": [
        "history_tutor"
      ]
    },
    {
      "cell_type": "code",
      "execution_count": 13,
      "metadata": {
        "colab": {
          "base_uri": "https://localhost:8080/"
        },
        "id": "KLgt-CjsQEPx",
        "outputId": "b02ccd25-d4ff-4290-a041-c78dac2854d7"
      },
      "outputs": [
        {
          "name": "stdout",
          "output_type": "stream",
          "text": [
            "To terminate conversation, type \"END\"\n",
            "where is jordan\n",
            "\n",
            "\n",
            "\n",
            "\n",
            "('Jordan is a country located in the Middle East, bordered by Saudi Arabia to '\n",
            " 'the south and east, Iraq to the north-east, Syria to the north, and Israel '\n",
            " 'and Palestine to the west. Its capital city is Amman.')\n",
            "\n",
            "\n",
            "who is the current king\n",
            "\n",
            "\n",
            "\n",
            "\n",
            "('The current king of Jordan is King Abdullah II. He ascended to the throne on '\n",
            " 'February 7, 1999, following the death of his father, King Hussein. King '\n",
            " 'Abdullah II is the head of state and wields executive, legislative, and '\n",
            " 'judicial powers in Jordan.')\n",
            "\n",
            "\n",
            "how many sons does he have\n",
            "\n",
            "\n",
            "\n",
            "\n",
            "('King Abdullah II of Jordan has four sons. His eldest son, Crown Prince '\n",
            " 'Hussein, is the heir apparent to the throne. The other three sons are Prince '\n",
            " 'Hashem, Prince Prince Hashem, and Prince Hashem.')\n",
            "\n",
            "\n",
            "end\n",
            "\n",
            "\n",
            "\n",
            "\n",
            "('If you have any more questions or need further information, feel free to '\n",
            " \"ask. I'm here to help!\")\n",
            "\n",
            "\n",
            "END\n",
            "\n",
            "\n",
            "\n",
            "\n",
            "('Thank you for using the History Tutor service. If you have any more '\n",
            " 'questions in the future, feel free to reach out. Have a great day! Goodbye!')\n",
            "\n",
            "\n"
          ]
        }
      ],
      "source": [
        "history_tutor.chat()"
      ]
    },
    {
      "cell_type": "code",
      "execution_count": 14,
      "metadata": {
        "colab": {
          "base_uri": "https://localhost:8080/"
        },
        "id": "-M4m8BvCQLv5",
        "outputId": "8d930f5b-8ecb-4053-c01e-77afbc6be060"
      },
      "outputs": [
        {
          "data": {
            "text/plain": [
              "[{'role': 'system', 'content': 'Yor are a Jordanian History Tutor'},\n",
              " {'role': 'user', 'content': 'where is jordan'},\n",
              " {'role': 'assistant',\n",
              "  'content': 'Jordan is a country located in the Middle East, bordered by Saudi Arabia to the south and east, Iraq to the north-east, Syria to the north, and Israel and Palestine to the west. Its capital city is Amman.'},\n",
              " {'role': 'user', 'content': 'who is the current king'},\n",
              " {'role': 'assistant',\n",
              "  'content': 'The current king of Jordan is King Abdullah II. He ascended to the throne on February 7, 1999, following the death of his father, King Hussein. King Abdullah II is the head of state and wields executive, legislative, and judicial powers in Jordan.'},\n",
              " {'role': 'user', 'content': 'how many sons does he have'},\n",
              " {'role': 'assistant',\n",
              "  'content': 'King Abdullah II of Jordan has four sons. His eldest son, Crown Prince Hussein, is the heir apparent to the throne. The other three sons are Prince Hashem, Prince Prince Hashem, and Prince Hashem.'},\n",
              " {'role': 'user', 'content': 'end'},\n",
              " {'role': 'assistant',\n",
              "  'content': \"If you have any more questions or need further information, feel free to ask. I'm here to help!\"},\n",
              " {'role': 'user', 'content': 'END'},\n",
              " {'role': 'assistant',\n",
              "  'content': 'Thank you for using the History Tutor service. If you have any more questions in the future, feel free to reach out. Have a great day! Goodbye!'}]"
            ]
          },
          "execution_count": 14,
          "metadata": {},
          "output_type": "execute_result"
        }
      ],
      "source": [
        "history_tutor.messages"
      ]
    },
    {
      "cell_type": "markdown",
      "metadata": {
        "id": "WO4zYVHjU6Wq"
      },
      "source": [
        "to know the exaclty token consumed"
      ]
    },
    {
      "cell_type": "code",
      "execution_count": 15,
      "metadata": {
        "id": "O_S_DDbBUqXX"
      },
      "outputs": [],
      "source": [
        "full_text = ''\n",
        "for item in history_tutor.messages:\n",
        "  full_text += item['content']"
      ]
    },
    {
      "cell_type": "code",
      "execution_count": 16,
      "metadata": {
        "colab": {
          "base_uri": "https://localhost:8080/"
        },
        "id": "UW31z4e-VMTe",
        "outputId": "f28945e3-8d83-47c6-d945-db2c20e8729a"
      },
      "outputs": [
        {
          "data": {
            "text/plain": [
              "172"
            ]
          },
          "execution_count": 16,
          "metadata": {},
          "output_type": "execute_result"
        }
      ],
      "source": [
        "len(full_text.split())"
      ]
    },
    {
      "cell_type": "code",
      "execution_count": 17,
      "metadata": {
        "id": "P8WEGk9xVZqd"
      },
      "outputs": [],
      "source": [
        "def num_token_from_string(string, encoding_name):\n",
        "  \"\"\"Returns the number of tokens in a text string.\"\"\"\n",
        "  encoding = tiktoken.get_encoding(encoding_name)\n",
        "  num_tokens = len(encoding.encode(string))\n",
        "  return num_tokens"
      ]
    },
    {
      "cell_type": "code",
      "execution_count": 18,
      "metadata": {
        "colab": {
          "base_uri": "https://localhost:8080/"
        },
        "id": "J04mnwCXjcUI",
        "outputId": "41b05f08-c04e-4f80-c060-d5122451a6e1"
      },
      "outputs": [
        {
          "name": "stdout",
          "output_type": "stream",
          "text": [
            "Collecting tiktoken\n",
            "  Downloading tiktoken-0.9.0-cp311-cp311-manylinux_2_17_x86_64.manylinux2014_x86_64.whl.metadata (6.7 kB)\n",
            "Requirement already satisfied: regex>=2022.1.18 in /usr/local/lib/python3.11/dist-packages (from tiktoken) (2024.11.6)\n",
            "Requirement already satisfied: requests>=2.26.0 in /usr/local/lib/python3.11/dist-packages (from tiktoken) (2.32.3)\n",
            "Requirement already satisfied: charset-normalizer<4,>=2 in /usr/local/lib/python3.11/dist-packages (from requests>=2.26.0->tiktoken) (3.4.1)\n",
            "Requirement already satisfied: idna<4,>=2.5 in /usr/local/lib/python3.11/dist-packages (from requests>=2.26.0->tiktoken) (3.10)\n",
            "Requirement already satisfied: urllib3<3,>=1.21.1 in /usr/local/lib/python3.11/dist-packages (from requests>=2.26.0->tiktoken) (2.3.0)\n",
            "Requirement already satisfied: certifi>=2017.4.17 in /usr/local/lib/python3.11/dist-packages (from requests>=2.26.0->tiktoken) (2025.1.31)\n",
            "Downloading tiktoken-0.9.0-cp311-cp311-manylinux_2_17_x86_64.manylinux2014_x86_64.whl (1.2 MB)\n",
            "\u001b[2K   \u001b[90m━━━━━━━━━━━━━━━━━━━━━━━━━━━━━━━━━━━━━━━━\u001b[0m \u001b[32m1.2/1.2 MB\u001b[0m \u001b[31m12.9 MB/s\u001b[0m eta \u001b[36m0:00:00\u001b[0m\n",
            "\u001b[?25hInstalling collected packages: tiktoken\n",
            "Successfully installed tiktoken-0.9.0\n"
          ]
        }
      ],
      "source": [
        "!pip install tiktoken"
      ]
    },
    {
      "cell_type": "code",
      "execution_count": 19,
      "metadata": {
        "id": "PiLwBAevV5D8"
      },
      "outputs": [],
      "source": [
        "import tiktoken"
      ]
    },
    {
      "cell_type": "code",
      "execution_count": 20,
      "metadata": {
        "colab": {
          "base_uri": "https://localhost:8080/"
        },
        "id": "cEtdF7HBV8gs",
        "outputId": "bdbf28e9-4b90-48f3-feae-d7fe011f4e53"
      },
      "outputs": [
        {
          "data": {
            "text/plain": [
              "225"
            ]
          },
          "execution_count": 20,
          "metadata": {},
          "output_type": "execute_result"
        }
      ],
      "source": [
        "num_token_from_string(full_text,'cl100k_base')"
      ]
    }
  ],
  "metadata": {
    "colab": {
      "provenance": []
    },
    "gpuClass": "standard",
    "kernelspec": {
      "display_name": "Python 3",
      "name": "python3"
    },
    "language_info": {
      "name": "python"
    }
  },
  "nbformat": 4,
  "nbformat_minor": 0
}
